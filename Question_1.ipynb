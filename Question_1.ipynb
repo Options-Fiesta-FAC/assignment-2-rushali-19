{
 "cells": [
  {
   "cell_type": "code",
   "execution_count": 1,
   "id": "8d7028a7-dda6-46a6-b41c-8de0cfd3f551",
   "metadata": {},
   "outputs": [
    {
     "name": "stdout",
     "output_type": "stream",
     "text": [
      "Defaulting to user installation because normal site-packages is not writeable\n",
      "Collecting yfinance\n",
      "  Downloading yfinance-0.2.61-py2.py3-none-any.whl.metadata (5.8 kB)\n",
      "Requirement already satisfied: pandas in c:\\users\\dell\\appdata\\roaming\\python\\python312\\site-packages (2.2.3)\n",
      "Requirement already satisfied: numpy in c:\\users\\dell\\appdata\\roaming\\python\\python312\\site-packages (2.2.6)\n",
      "Requirement already satisfied: requests>=2.31 in c:\\users\\dell\\appdata\\roaming\\python\\python312\\site-packages (from yfinance) (2.32.3)\n",
      "Collecting multitasking>=0.0.7 (from yfinance)\n",
      "  Downloading multitasking-0.0.11-py3-none-any.whl.metadata (5.5 kB)\n",
      "Requirement already satisfied: platformdirs>=2.0.0 in c:\\users\\dell\\appdata\\roaming\\python\\python312\\site-packages (from yfinance) (4.3.8)\n",
      "Requirement already satisfied: pytz>=2022.5 in c:\\users\\dell\\appdata\\roaming\\python\\python312\\site-packages (from yfinance) (2025.2)\n",
      "Collecting frozendict>=2.3.4 (from yfinance)\n",
      "  Downloading frozendict-2.4.6-py312-none-any.whl.metadata (23 kB)\n",
      "Collecting peewee>=3.16.2 (from yfinance)\n",
      "  Downloading peewee-3.18.1.tar.gz (3.0 MB)\n",
      "     ---------------------------------------- 0.0/3.0 MB ? eta -:--:--\n",
      "      --------------------------------------- 0.0/3.0 MB 653.6 kB/s eta 0:00:05\n",
      "     --- ------------------------------------ 0.3/3.0 MB 2.9 MB/s eta 0:00:01\n",
      "     ------- -------------------------------- 0.6/3.0 MB 3.9 MB/s eta 0:00:01\n",
      "     ----------- ---------------------------- 0.9/3.0 MB 4.7 MB/s eta 0:00:01\n",
      "     --------------- ------------------------ 1.2/3.0 MB 5.1 MB/s eta 0:00:01\n",
      "     -------------------- ------------------- 1.5/3.0 MB 5.7 MB/s eta 0:00:01\n",
      "     ------------------------ --------------- 1.8/3.0 MB 5.6 MB/s eta 0:00:01\n",
      "     ------------------------------ --------- 2.3/3.0 MB 6.2 MB/s eta 0:00:01\n",
      "     ------------------------------------- -- 2.8/3.0 MB 6.7 MB/s eta 0:00:01\n",
      "     ---------------------------------------- 3.0/3.0 MB 6.7 MB/s eta 0:00:00\n",
      "  Installing build dependencies: started\n",
      "  Installing build dependencies: finished with status 'done'\n",
      "  Getting requirements to build wheel: started\n",
      "  Getting requirements to build wheel: finished with status 'done'\n",
      "  Preparing metadata (pyproject.toml): started\n",
      "  Preparing metadata (pyproject.toml): finished with status 'done'\n",
      "Requirement already satisfied: beautifulsoup4>=4.11.1 in c:\\users\\dell\\appdata\\roaming\\python\\python312\\site-packages (from yfinance) (4.13.4)\n",
      "Collecting curl_cffi>=0.7 (from yfinance)\n",
      "  Downloading curl_cffi-0.11.1-cp39-abi3-win_amd64.whl.metadata (15 kB)\n",
      "Collecting protobuf>=3.19.0 (from yfinance)\n",
      "  Downloading protobuf-6.31.1-cp310-abi3-win_amd64.whl.metadata (593 bytes)\n",
      "Collecting websockets>=13.0 (from yfinance)\n",
      "  Downloading websockets-15.0.1-cp312-cp312-win_amd64.whl.metadata (7.0 kB)\n",
      "Requirement already satisfied: python-dateutil>=2.8.2 in c:\\users\\dell\\appdata\\roaming\\python\\python312\\site-packages (from pandas) (2.9.0.post0)\n",
      "Requirement already satisfied: tzdata>=2022.7 in c:\\users\\dell\\appdata\\roaming\\python\\python312\\site-packages (from pandas) (2025.2)\n",
      "Requirement already satisfied: soupsieve>1.2 in c:\\users\\dell\\appdata\\roaming\\python\\python312\\site-packages (from beautifulsoup4>=4.11.1->yfinance) (2.7)\n",
      "Requirement already satisfied: typing-extensions>=4.0.0 in c:\\users\\dell\\appdata\\roaming\\python\\python312\\site-packages (from beautifulsoup4>=4.11.1->yfinance) (4.13.2)\n",
      "Requirement already satisfied: cffi>=1.12.0 in c:\\users\\dell\\appdata\\roaming\\python\\python312\\site-packages (from curl_cffi>=0.7->yfinance) (1.17.1)\n",
      "Requirement already satisfied: certifi>=2024.2.2 in c:\\users\\dell\\appdata\\roaming\\python\\python312\\site-packages (from curl_cffi>=0.7->yfinance) (2025.4.26)\n",
      "Requirement already satisfied: six>=1.5 in c:\\users\\dell\\appdata\\roaming\\python\\python312\\site-packages (from python-dateutil>=2.8.2->pandas) (1.17.0)\n",
      "Requirement already satisfied: charset-normalizer<4,>=2 in c:\\users\\dell\\appdata\\roaming\\python\\python312\\site-packages (from requests>=2.31->yfinance) (3.4.2)\n",
      "Requirement already satisfied: idna<4,>=2.5 in c:\\users\\dell\\appdata\\roaming\\python\\python312\\site-packages (from requests>=2.31->yfinance) (3.10)\n",
      "Requirement already satisfied: urllib3<3,>=1.21.1 in c:\\users\\dell\\appdata\\roaming\\python\\python312\\site-packages (from requests>=2.31->yfinance) (2.4.0)\n",
      "Requirement already satisfied: pycparser in c:\\users\\dell\\appdata\\roaming\\python\\python312\\site-packages (from cffi>=1.12.0->curl_cffi>=0.7->yfinance) (2.22)\n",
      "Downloading yfinance-0.2.61-py2.py3-none-any.whl (117 kB)\n",
      "   ---------------------------------------- 0.0/117.9 kB ? eta -:--:--\n",
      "   ---------------------------------------- 117.9/117.9 kB 3.4 MB/s eta 0:00:00\n",
      "Downloading curl_cffi-0.11.1-cp39-abi3-win_amd64.whl (1.4 MB)\n",
      "   ---------------------------------------- 0.0/1.4 MB ? eta -:--:--\n",
      "   --------------- ------------------------ 0.6/1.4 MB 12.0 MB/s eta 0:00:01\n",
      "   ---------------------------------------  1.4/1.4 MB 6.4 MB/s eta 0:00:01\n",
      "   ---------------------------------------  1.4/1.4 MB 6.4 MB/s eta 0:00:01\n",
      "   ---------------------------------------- 1.4/1.4 MB 2.3 MB/s eta 0:00:00\n",
      "Downloading frozendict-2.4.6-py312-none-any.whl (16 kB)\n",
      "Downloading multitasking-0.0.11-py3-none-any.whl (8.5 kB)\n",
      "Downloading protobuf-6.31.1-cp310-abi3-win_amd64.whl (435 kB)\n",
      "   ---------------------------------------- 0.0/435.3 kB ? eta -:--:--\n",
      "   --------------------------------------  430.1/435.3 kB 13.5 MB/s eta 0:00:01\n",
      "   --------------------------------------  430.1/435.3 kB 13.5 MB/s eta 0:00:01\n",
      "   --------------------------------------  430.1/435.3 kB 13.5 MB/s eta 0:00:01\n",
      "   --------------------------------------  430.1/435.3 kB 13.5 MB/s eta 0:00:01\n",
      "   --------------------------------------  430.1/435.3 kB 13.5 MB/s eta 0:00:01\n",
      "   --------------------------------------  430.1/435.3 kB 13.5 MB/s eta 0:00:01\n",
      "   --------------------------------------  430.1/435.3 kB 13.5 MB/s eta 0:00:01\n",
      "   --------------------------------------  430.1/435.3 kB 13.5 MB/s eta 0:00:01\n",
      "   --------------------------------------  430.1/435.3 kB 13.5 MB/s eta 0:00:01\n",
      "   --------------------------------------  430.1/435.3 kB 13.5 MB/s eta 0:00:01\n",
      "   --------------------------------------  430.1/435.3 kB 13.5 MB/s eta 0:00:01\n",
      "   --------------------------------------  430.1/435.3 kB 13.5 MB/s eta 0:00:01\n",
      "   --------------------------------------  430.1/435.3 kB 13.5 MB/s eta 0:00:01\n",
      "   --------------------------------------  430.1/435.3 kB 13.5 MB/s eta 0:00:01\n",
      "   --------------------------------------  430.1/435.3 kB 13.5 MB/s eta 0:00:01\n",
      "   --------------------------------------  430.1/435.3 kB 13.5 MB/s eta 0:00:01\n",
      "   --------------------------------------  430.1/435.3 kB 13.5 MB/s eta 0:00:01\n",
      "   --------------------------------------  430.1/435.3 kB 13.5 MB/s eta 0:00:01\n",
      "   --------------------------------------  430.1/435.3 kB 13.5 MB/s eta 0:00:01\n",
      "   --------------------------------------  430.1/435.3 kB 13.5 MB/s eta 0:00:01\n",
      "   --------------------------------------  430.1/435.3 kB 13.5 MB/s eta 0:00:01\n",
      "   --------------------------------------  430.1/435.3 kB 13.5 MB/s eta 0:00:01\n",
      "   --------------------------------------  430.1/435.3 kB 13.5 MB/s eta 0:00:01\n",
      "   --------------------------------------  430.1/435.3 kB 13.5 MB/s eta 0:00:01\n",
      "   --------------------------------------  430.1/435.3 kB 13.5 MB/s eta 0:00:01\n",
      "   --------------------------------------  430.1/435.3 kB 13.5 MB/s eta 0:00:01\n",
      "   --------------------------------------  430.1/435.3 kB 13.5 MB/s eta 0:00:01\n",
      "   --------------------------------------  430.1/435.3 kB 13.5 MB/s eta 0:00:01\n",
      "   --------------------------------------  430.1/435.3 kB 13.5 MB/s eta 0:00:01\n",
      "   --------------------------------------  430.1/435.3 kB 13.5 MB/s eta 0:00:01\n",
      "   --------------------------------------  430.1/435.3 kB 13.5 MB/s eta 0:00:01\n",
      "   --------------------------------------  430.1/435.3 kB 13.5 MB/s eta 0:00:01\n",
      "   --------------------------------------  430.1/435.3 kB 13.5 MB/s eta 0:00:01\n",
      "   --------------------------------------  430.1/435.3 kB 13.5 MB/s eta 0:00:01\n",
      "   --------------------------------------  430.1/435.3 kB 13.5 MB/s eta 0:00:01\n",
      "   --------------------------------------  430.1/435.3 kB 13.5 MB/s eta 0:00:01\n",
      "   --------------------------------------  430.1/435.3 kB 13.5 MB/s eta 0:00:01\n",
      "   --------------------------------------  430.1/435.3 kB 13.5 MB/s eta 0:00:01\n",
      "   --------------------------------------  430.1/435.3 kB 13.5 MB/s eta 0:00:01\n",
      "   --------------------------------------  430.1/435.3 kB 13.5 MB/s eta 0:00:01\n",
      "   --------------------------------------  430.1/435.3 kB 13.5 MB/s eta 0:00:01\n",
      "   --------------------------------------  430.1/435.3 kB 13.5 MB/s eta 0:00:01\n",
      "   --------------------------------------  430.1/435.3 kB 13.5 MB/s eta 0:00:01\n",
      "   --------------------------------------  430.1/435.3 kB 13.5 MB/s eta 0:00:01\n",
      "   --------------------------------------  430.1/435.3 kB 13.5 MB/s eta 0:00:01\n",
      "   --------------------------------------  430.1/435.3 kB 13.5 MB/s eta 0:00:01\n",
      "   --------------------------------------  430.1/435.3 kB 13.5 MB/s eta 0:00:01\n",
      "   --------------------------------------  430.1/435.3 kB 13.5 MB/s eta 0:00:01\n",
      "   --------------------------------------  430.1/435.3 kB 13.5 MB/s eta 0:00:01\n",
      "   --------------------------------------  430.1/435.3 kB 13.5 MB/s eta 0:00:01\n",
      "   --------------------------------------  430.1/435.3 kB 13.5 MB/s eta 0:00:01\n",
      "   --------------------------------------  430.1/435.3 kB 13.5 MB/s eta 0:00:01\n",
      "   --------------------------------------  430.1/435.3 kB 13.5 MB/s eta 0:00:01\n",
      "   --------------------------------------  430.1/435.3 kB 13.5 MB/s eta 0:00:01\n",
      "   --------------------------------------  430.1/435.3 kB 13.5 MB/s eta 0:00:01\n",
      "   --------------------------------------  430.1/435.3 kB 13.5 MB/s eta 0:00:01\n",
      "   --------------------------------------  430.1/435.3 kB 13.5 MB/s eta 0:00:01\n",
      "   --------------------------------------  430.1/435.3 kB 13.5 MB/s eta 0:00:01\n",
      "   --------------------------------------  430.1/435.3 kB 13.5 MB/s eta 0:00:01\n",
      "   --------------------------------------  430.1/435.3 kB 13.5 MB/s eta 0:00:01\n",
      "   --------------------------------------  430.1/435.3 kB 13.5 MB/s eta 0:00:01\n",
      "   --------------------------------------  430.1/435.3 kB 13.5 MB/s eta 0:00:01\n",
      "   --------------------------------------  430.1/435.3 kB 13.5 MB/s eta 0:00:01\n",
      "   --------------------------------------  430.1/435.3 kB 13.5 MB/s eta 0:00:01\n",
      "   --------------------------------------  430.1/435.3 kB 13.5 MB/s eta 0:00:01\n",
      "   --------------------------------------  430.1/435.3 kB 13.5 MB/s eta 0:00:01\n",
      "   --------------------------------------  430.1/435.3 kB 13.5 MB/s eta 0:00:01\n",
      "   --------------------------------------  430.1/435.3 kB 13.5 MB/s eta 0:00:01\n",
      "   --------------------------------------  430.1/435.3 kB 13.5 MB/s eta 0:00:01\n",
      "   --------------------------------------  430.1/435.3 kB 13.5 MB/s eta 0:00:01\n",
      "   --------------------------------------  430.1/435.3 kB 13.5 MB/s eta 0:00:01\n",
      "   --------------------------------------  430.1/435.3 kB 13.5 MB/s eta 0:00:01\n",
      "   --------------------------------------  430.1/435.3 kB 13.5 MB/s eta 0:00:01\n",
      "   --------------------------------------  430.1/435.3 kB 13.5 MB/s eta 0:00:01\n",
      "   --------------------------------------  430.1/435.3 kB 13.5 MB/s eta 0:00:01\n",
      "   --------------------------------------  430.1/435.3 kB 13.5 MB/s eta 0:00:01\n",
      "   --------------------------------------  430.1/435.3 kB 13.5 MB/s eta 0:00:01\n",
      "   --------------------------------------  430.1/435.3 kB 13.5 MB/s eta 0:00:01\n",
      "   --------------------------------------  430.1/435.3 kB 13.5 MB/s eta 0:00:01\n",
      "   --------------------------------------  430.1/435.3 kB 13.5 MB/s eta 0:00:01\n",
      "   --------------------------------------  430.1/435.3 kB 13.5 MB/s eta 0:00:01\n",
      "   --------------------------------------  430.1/435.3 kB 13.5 MB/s eta 0:00:01\n",
      "   --------------------------------------- 435.3/435.3 kB 70.3 kB/s eta 0:00:00\n",
      "Downloading websockets-15.0.1-cp312-cp312-win_amd64.whl (176 kB)\n",
      "   ---------------------------------------- 0.0/176.8 kB ? eta -:--:--\n",
      "   --------------------------------------  174.1/176.8 kB 10.2 MB/s eta 0:00:01\n",
      "   ---------------------------------------- 176.8/176.8 kB 1.2 MB/s eta 0:00:00\n",
      "Building wheels for collected packages: peewee\n",
      "  Building wheel for peewee (pyproject.toml): started\n",
      "  Building wheel for peewee (pyproject.toml): finished with status 'done'\n",
      "  Created wheel for peewee: filename=peewee-3.18.1-py3-none-any.whl size=139097 sha256=2b6c6a3bfd418ea859ea39a833045096fa70a5a9d8bdaf6fbced0fbad4c9e9a8\n",
      "  Stored in directory: c:\\users\\dell\\appdata\\local\\pip\\cache\\wheels\\1a\\57\\6a\\bb71346381d0d911cd4ce3026f1fa720da76707e4f01cf27dd\n",
      "Successfully built peewee\n",
      "Installing collected packages: peewee, multitasking, websockets, protobuf, frozendict, curl_cffi, yfinance\n",
      "Successfully installed curl_cffi-0.11.1 frozendict-2.4.6 multitasking-0.0.11 peewee-3.18.1 protobuf-6.31.1 websockets-15.0.1 yfinance-0.2.61\n",
      "Note: you may need to restart the kernel to use updated packages.\n"
     ]
    },
    {
     "name": "stderr",
     "output_type": "stream",
     "text": [
      "  WARNING: The script websockets.exe is installed in 'C:\\Users\\DELL\\AppData\\Roaming\\Python\\Python312\\Scripts' which is not on PATH.\n",
      "  Consider adding this directory to PATH or, if you prefer to suppress this warning, use --no-warn-script-location.\n",
      "  WARNING: The script sample.exe is installed in 'C:\\Users\\DELL\\AppData\\Roaming\\Python\\Python312\\Scripts' which is not on PATH.\n",
      "  Consider adding this directory to PATH or, if you prefer to suppress this warning, use --no-warn-script-location.\n",
      "\n",
      "[notice] A new release of pip is available: 24.0 -> 25.1.1\n",
      "[notice] To update, run: python.exe -m pip install --upgrade pip\n"
     ]
    }
   ],
   "source": [
    "pip install yfinance pandas numpy\n"
   ]
  },
  {
   "cell_type": "code",
   "execution_count": 26,
   "id": "b5943821-6a21-4b0d-be21-e7b76b99d8c5",
   "metadata": {},
   "outputs": [
    {
     "name": "stderr",
     "output_type": "stream",
     "text": [
      "[*********************100%***********************]  1 of 1 completed"
     ]
    },
    {
     "name": "stdout",
     "output_type": "stream",
     "text": [
      "Price        Date         Close          High           Low          Open  \\\n",
      "Ticker                    ^NSEI         ^NSEI         ^NSEI         ^NSEI   \n",
      "0      2022-01-03  17625.699219  17646.650391  17383.300781  17387.150391   \n",
      "1      2022-01-04  17805.250000  17827.599609  17593.550781  17681.400391   \n",
      "2      2022-01-05  17925.250000  17944.699219  17748.849609  17820.099609   \n",
      "3      2022-01-06  17745.900391  17797.949219  17655.550781  17768.500000   \n",
      "4      2022-01-07  17812.699219  17905.000000  17704.550781  17797.599609   \n",
      "\n",
      "Price   Volume  \n",
      "Ticker   ^NSEI  \n",
      "0       200500  \n",
      "1       247400  \n",
      "2       251500  \n",
      "3       236500  \n",
      "4       239300  \n"
     ]
    },
    {
     "name": "stderr",
     "output_type": "stream",
     "text": [
      "\n"
     ]
    }
   ],
   "source": [
    "import yfinance as yf\n",
    "import pandas as pd\n",
    "\n",
    "# Download NIFTY50 data (symbol: ^NSEI)\n",
    "data = yf.download(\"^NSEI\", start=\"2022-01-01\", end=\"2024-12-31\", interval=\"1d\")\n",
    "data = data.dropna()  # Remove missing values\n",
    "data.reset_index(inplace=True)\n",
    "print(data.head())\n"
   ]
  },
  {
   "cell_type": "code",
   "execution_count": 27,
   "id": "089aa618-dc37-4ac7-a2ed-e90084df6e61",
   "metadata": {},
   "outputs": [],
   "source": [
    "data.columns = [col[0] if isinstance(col, tuple) else col for col in data.columns]\n"
   ]
  },
  {
   "cell_type": "code",
   "execution_count": 28,
   "id": "f4630840-e48a-493c-aeb7-0c57d39aa302",
   "metadata": {},
   "outputs": [],
   "source": [
    "def bollinger_bands(df, window=20, num_std=2):\n",
    "    df['BB_Middle'] = df['Close'].rolling(window).mean()\n",
    "    df['BB_Std'] = df['Close'].rolling(window).std()\n",
    "    df['BB_Upper'] = df['BB_Middle'] + num_std * df['BB_Std']\n",
    "    df['BB_Lower'] = df['BB_Middle'] - num_std * df['BB_Std']\n",
    "    return df\n"
   ]
  },
  {
   "cell_type": "code",
   "execution_count": 29,
   "id": "9454f05b-126d-467e-8cc1-5c533d61b695",
   "metadata": {},
   "outputs": [],
   "source": [
    "def macd(df, fast=12, slow=26, signal=9):\n",
    "    df['EMA_fast'] = df['Close'].ewm(span=fast, adjust=False).mean()\n",
    "    df['EMA_slow'] = df['Close'].ewm(span=slow, adjust=False).mean()\n",
    "    df['MACD'] = df['EMA_fast'] - df['EMA_slow']\n",
    "    df['MACD_Signal'] = df['MACD'].ewm(span=signal, adjust=False).mean()\n",
    "    return df\n"
   ]
  },
  {
   "cell_type": "code",
   "execution_count": 30,
   "id": "442f09a3-a97e-44fe-9686-7a5bbcf01479",
   "metadata": {},
   "outputs": [],
   "source": [
    "def stochastic_oscillator(df, k_window=14, d_window=3):\n",
    "    df['Low_Min'] = df['Low'].rolling(window=k_window).min()\n",
    "    df['High_Max'] = df['High'].rolling(window=k_window).max()\n",
    "    df['%K'] = 100 * (df['Close'] - df['Low_Min']) / (df['High_Max'] - df['Low_Min'])\n",
    "    df['%D'] = df['%K'].rolling(window=d_window).mean()\n",
    "    return df\n"
   ]
  },
  {
   "cell_type": "code",
   "execution_count": 34,
   "id": "ec51a95a-730c-420f-bde6-527edbc08651",
   "metadata": {},
   "outputs": [],
   "source": [
    "def vwap(df):\n",
    "    df['TP'] = (df['High'] + df['Low'] + df['Close']) / 3  # Typical Price\n",
    "    df['Cumulative_TP_Volume'] = (df['TP'] * df['Volume']).cumsum()\n",
    "    df['Cumulative_Volume'] = df['Volume'].cumsum()\n",
    "    df['VWAP'] = df['Cumulative_TP_Volume'] / df['Cumulative_Volume']\n",
    "    return df\n"
   ]
  },
  {
   "cell_type": "code",
   "execution_count": 35,
   "id": "607eed46-5c44-4ef0-a114-ff403c55830e",
   "metadata": {},
   "outputs": [],
   "source": [
    "def rsi(df, window=14):\n",
    "    delta = df['Close'].diff()\n",
    "    gain = (delta.where(delta > 0, 0)).rolling(window).mean()\n",
    "    loss = (-delta.where(delta < 0, 0)).rolling(window).mean()\n",
    "    rs = gain / loss\n",
    "    df['RSI'] = 100 - (100 / (1 + rs))\n",
    "    return df\n"
   ]
  },
  {
   "cell_type": "code",
   "execution_count": 36,
   "id": "f0e146be-8598-49d5-85f9-6bec1930376f",
   "metadata": {},
   "outputs": [],
   "source": [
    "def rsi(df, window=14):\n",
    "    delta = df['Close'].diff()\n",
    "    gain = (delta.where(delta > 0, 0)).rolling(window).mean()\n",
    "    loss = (-delta.where(delta < 0, 0)).rolling(window).mean()\n",
    "    rs = gain / loss\n",
    "    df['RSI'] = 100 - (100 / (1 + rs))\n",
    "    return df\n"
   ]
  },
  {
   "cell_type": "code",
   "execution_count": 38,
   "id": "2dab9869-7a2b-48e5-a0c1-e52ef745aeb2",
   "metadata": {},
   "outputs": [],
   "source": [
    "def atr(df, window=14):\n",
    "    df['H-L'] = df['High'] - df['Low']\n",
    "    df['H-PC'] = abs(df['High'] - df['Close'].shift(1))\n",
    "    df['L-PC'] = abs(df['Low'] - df['Close'].shift(1))\n",
    "    df['TR'] = df[['H-L', 'H-PC', 'L-PC']].max(axis=1)\n",
    "    df['ATR'] = df['TR'].rolling(window).mean()\n",
    "    return df\n"
   ]
  },
  {
   "cell_type": "code",
   "execution_count": 39,
   "id": "458ad747-8521-46cf-8cf4-c1ca5beb5f51",
   "metadata": {},
   "outputs": [
    {
     "name": "stdout",
     "output_type": "stream",
     "text": [
      "          Date         Close          High           Low          Open  \\\n",
      "733 2024-12-23  23753.449219  23869.550781  23647.199219  23738.199219   \n",
      "734 2024-12-24  23727.650391  23867.650391  23685.150391  23769.099609   \n",
      "735 2024-12-26  23750.199219  23854.500000  23653.599609  23775.800781   \n",
      "736 2024-12-27  23813.400391  23938.849609  23800.599609  23801.400391   \n",
      "737 2024-12-30  23644.900391  23915.349609  23599.300781  23796.900391   \n",
      "\n",
      "     Volume     BB_Middle      BB_Std      BB_Upper      BB_Lower  ...  \\\n",
      "733  189800  24339.255078  339.650109  25018.555295  23659.954861  ...   \n",
      "734  177700  24315.912598  365.202940  25046.318478  23585.506717  ...   \n",
      "735  177700  24289.677539  386.528042  25062.733624  23516.621454  ...   \n",
      "736  176800  24284.640039  392.293283  25069.226605  23500.053473  ...   \n",
      "737  364900  24260.330078  416.619165  25093.568409  23427.091748  ...   \n",
      "\n",
      "               TP  Cumulative_TP_Volume  Cumulative_Volume          VWAP  \\\n",
      "733  23756.733073          4.186596e+12          209610000  19973.263196   \n",
      "734  23760.150391          4.190818e+12          209787700  19976.470866   \n",
      "735  23752.766276          4.195039e+12          209965400  19979.666858   \n",
      "736  23850.949870          4.199256e+12          210142200  19982.923904   \n",
      "737  23719.850260          4.207911e+12          210507100  19989.401617   \n",
      "\n",
      "           RSI         H-L        H-PC        L-PC          TR         ATR  \n",
      "733  32.759206  222.351562  282.050781   59.699219  282.050781  284.742885  \n",
      "734  32.011432  182.500000  114.201172   68.298828  182.500000  283.000140  \n",
      "735  23.932179  200.900391  126.849609   74.050781  200.900391  257.193080  \n",
      "736  26.893892  138.250000  188.650391   50.400391  188.650391  261.343052  \n",
      "737  25.404024  316.048828  101.949219  214.099609  316.048828  274.993025  \n",
      "\n",
      "[5 rows x 28 columns]\n"
     ]
    }
   ],
   "source": [
    "df = data.copy()\n",
    "df = bollinger_bands(df)\n",
    "df = macd(df)\n",
    "df = stochastic_oscillator(df)\n",
    "df = vwap(df)\n",
    "df = rsi(df)\n",
    "df = atr(df)\n",
    "\n",
    "print(df.tail())\n"
   ]
  },
  {
   "cell_type": "code",
   "execution_count": null,
   "id": "9789af64-2825-482b-8b43-337919bb1b38",
   "metadata": {},
   "outputs": [],
   "source": []
  },
  {
   "cell_type": "code",
   "execution_count": null,
   "id": "15cc4269-7d32-4a21-941b-41aa44fdd66a",
   "metadata": {},
   "outputs": [],
   "source": []
  }
 ],
 "metadata": {
  "kernelspec": {
   "display_name": "Python 3 (ipykernel)",
   "language": "python",
   "name": "python3"
  },
  "language_info": {
   "codemirror_mode": {
    "name": "ipython",
    "version": 3
   },
   "file_extension": ".py",
   "mimetype": "text/x-python",
   "name": "python",
   "nbconvert_exporter": "python",
   "pygments_lexer": "ipython3",
   "version": "3.12.4"
  }
 },
 "nbformat": 4,
 "nbformat_minor": 5
}
